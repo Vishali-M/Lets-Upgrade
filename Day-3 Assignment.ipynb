{
 "cells": [
  {
   "cell_type": "markdown",
   "metadata": {},
   "source": [
    "## Question-1 Program to subtract two complex numbers in Python"
   ]
  },
  {
   "cell_type": "code",
   "execution_count": 2,
   "metadata": {},
   "outputs": [
    {
     "name": "stdout",
     "output_type": "stream",
     "text": [
      "Subtraction of two complex numbers are : (16+2j)\n"
     ]
    }
   ],
   "source": [
    "x = 21+7j\n",
    "y = 5+5j\n",
    "z=x-y\n",
    "print(\"Subtraction of two complex numbers are :\",z)"
   ]
  },
  {
   "cell_type": "markdown",
   "metadata": {},
   "source": [
    "## Question-2 Program to find the fourth root of a number"
   ]
  },
  {
   "cell_type": "code",
   "execution_count": 7,
   "metadata": {},
   "outputs": [
    {
     "name": "stdout",
     "output_type": "stream",
     "text": [
      "2.6591479484724942\n"
     ]
    }
   ],
   "source": [
    "x=50\n",
    "print(x**(1/float(4)))"
   ]
  },
  {
   "cell_type": "markdown",
   "metadata": {},
   "source": [
    "## Question-3 Swap two numbers using a temporary variable"
   ]
  },
  {
   "cell_type": "code",
   "execution_count": 3,
   "metadata": {},
   "outputs": [
    {
     "name": "stdout",
     "output_type": "stream",
     "text": [
      "Before Swapping\n",
      "Value of x: 5 and y:  15\n",
      "After Swapping\n",
      "Value of x: 15 and y:  5\n"
     ]
    }
   ],
   "source": [
    "x=5\n",
    "y=15\n",
    "print(\"Before Swapping\")\n",
    "print(\"Value of x:\" ,x, \"and y: \",y)\n",
    "temp = x\n",
    "x = y\n",
    "y = temp\n",
    "print(\"After Swapping\")\n",
    "print(\"Value of x:\" ,x, \"and y: \",y)"
   ]
  },
  {
   "cell_type": "markdown",
   "metadata": {},
   "source": [
    "## Question-4 Swap two numbers without using a temporary variable"
   ]
  },
  {
   "cell_type": "code",
   "execution_count": 4,
   "metadata": {},
   "outputs": [
    {
     "name": "stdout",
     "output_type": "stream",
     "text": [
      "Before Swapping\n",
      "Value of x: 15 and y:  5\n",
      "After Swapping\n",
      "Value of x: 5 and y:  15\n"
     ]
    }
   ],
   "source": [
    "x=15\n",
    "y=5\n",
    "print(\"Before Swapping\")\n",
    "print(\"Value of x:\" ,x, \"and y: \",y)\n",
    "x , y = y , x\n",
    "print(\"After Swapping\")\n",
    "print(\"Value of x:\" ,x, \"and y: \",y)"
   ]
  },
  {
   "cell_type": "markdown",
   "metadata": {},
   "source": [
    "## Question-5 Convert fahrenheit to kelvin and celsius"
   ]
  },
  {
   "cell_type": "code",
   "execution_count": 5,
   "metadata": {},
   "outputs": [
    {
     "name": "stdout",
     "output_type": "stream",
     "text": [
      "kelvin value (K) = 339.05555555555554\n",
      "celsius value (C) = 65.55555555555556\n"
     ]
    }
   ],
   "source": [
    "F = 150\n",
    "def Fahrenheit_to_kelvin(F):\n",
    "    return 273.5 + ((F -32.0) * (5.0/9.0))\n",
    "print (\"kelvin value (K) = {}\".format (Fahrenheit_to_kelvin(F)))\n",
    "def Fahrenheit_to_celsius(F):\n",
    "    return (F - 32.0) * (5.0/9.0)\n",
    "print (\"celsius value (C) = {}\".format (Fahrenheit_to_celsius(F)))"
   ]
  },
  {
   "cell_type": "markdown",
   "metadata": {},
   "source": [
    "## Question-6 Demonstrate all the available data types"
   ]
  },
  {
   "cell_type": "code",
   "execution_count": 6,
   "metadata": {},
   "outputs": [
    {
     "name": "stdout",
     "output_type": "stream",
     "text": [
      "<class 'list'>\n",
      "<class 'dict'>\n",
      "<class 'tuple'>\n",
      "<class 'set'>\n",
      "<class 'bool'>\n",
      "<class 'int'>\n",
      "<class 'float'>\n",
      "<class 'str'>\n"
     ]
    }
   ],
   "source": [
    "a=[10,11,12,12,12,15,14]\n",
    "print(type(a))\n",
    "b= {'key':1,'value':2}\n",
    "print(type(b))\n",
    "c=(11,12,13)\n",
    "print(type(c))\n",
    "d=set(a)\n",
    "print(type(d))\n",
    "e = 45>2\n",
    "print(type(e))\n",
    "f = 2020\n",
    "print(type(f))\n",
    "g=202.3\n",
    "print(type(g))\n",
    "h = \"Lets Upgrade\"\n",
    "print(type(h))"
   ]
  },
  {
   "cell_type": "markdown",
   "metadata": {},
   "source": [
    "## Question-7 Github profile creation"
   ]
  },
  {
   "cell_type": "markdown",
   "metadata": {},
   "source": [
    "# Steps to create a profile in Github:\n",
    "## 1: Give your Gmail address\n",
    "## 2: Create a password\n",
    "## 3: Create a repository with public mode\n",
    "## 4: Upload your jupyter notebook using upload files option\n",
    "## 5: Copy the github url\n",
    "## 6: Open the form which was given by letsupgrade team and fill all details and paste the github url"
   ]
  }
 ],
 "metadata": {
  "kernelspec": {
   "display_name": "Python 3",
   "language": "python",
   "name": "python3"
  },
  "language_info": {
   "codemirror_mode": {
    "name": "ipython",
    "version": 3
   },
   "file_extension": ".py",
   "mimetype": "text/x-python",
   "name": "python",
   "nbconvert_exporter": "python",
   "pygments_lexer": "ipython3",
   "version": "3.7.3"
  }
 },
 "nbformat": 4,
 "nbformat_minor": 2
}
