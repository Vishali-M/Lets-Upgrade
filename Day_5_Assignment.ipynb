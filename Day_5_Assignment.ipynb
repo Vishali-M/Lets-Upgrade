{
 "cells": [
  {
   "cell_type": "markdown",
   "metadata": {},
   "source": [
    "\n",
    "# Question 1: Write a Python program to find the first 20 non-even prime natural numbers."
   ]
  },
  {
   "cell_type": "code",
   "execution_count": 1,
   "metadata": {},
   "outputs": [
    {
     "name": "stdout",
     "output_type": "stream",
     "text": [
      "The first 20 non-even Prime Natural Number are :\n",
      "3 5 7 11 13 17 19 "
     ]
    }
   ],
   "source": [
    "print(\"The first 20 non-even Prime Natural Number are :\")\n",
    "for num in range(0,51):  \n",
    "   if num > 1:  \n",
    "       for i in range(2,num):  \n",
    "           if (num % i) == 0:  \n",
    "               break  \n",
    "       else:\n",
    "         if (num%2) != 0 and num <=20:\n",
    "             \n",
    "           print(num,end=\" \")"
   ]
  },
  {
   "cell_type": "markdown",
   "metadata": {},
   "source": [
    "# Question 2: Write a Python program to implement 15 functions of string."
   ]
  },
  {
   "cell_type": "code",
   "execution_count": 2,
   "metadata": {},
   "outputs": [
    {
     "name": "stdout",
     "output_type": "stream",
     "text": [
      "Conversts the first character to upper case  Welcome to letsupgrade!\n",
      "Convert string into lower case  welcome to letsupgrade!\n",
      "Returns a encoded version of the string  b'Welcome to letsupgrade!'\n",
      "Search the string for a specified value and returns positon 7\n",
      "Returns TRUE if all the charaters in the string are lower False\n",
      "Converts a string into lower case welcome to letsupgrade!\n",
      "Returns a string where a specified value is replcaed with a specified value  Welcome/to/letsupgrade!\n",
      "Splits the string at the specified separator and returns a list ['Welcome', 'to', 'letsupgrade!']\n",
      "Convert a string into Upper Case  WELCOME TO LETSUPGRADE!\n",
      "Returns TRUE if all the charaters in the string are upper False\n",
      "Removes the number of times a specified value occurs in a string 2\n",
      "Searches the string for a specified value and returns the position of where it found 22\n",
      "Returns TRUE if all characters in the string are digits False\n",
      "Returns TRUE if all characters in the string are whitespaces False\n",
      "Returns TRUE if the string follows the rules of a title False\n"
     ]
    }
   ],
   "source": [
    "a=\"Welcome to letsupgrade!\"\n",
    "print(\"Conversts the first character to upper case \", a.capitalize())\n",
    "print(\"Convert string into lower case \", a.casefold())\n",
    "print(\"Returns a encoded version of the string \", a.encode())\n",
    "print(\"Search the string for a specified value and returns positon\", a.find(\" \"))\n",
    "print(\"Returns TRUE if all the charaters in the string are lower\", a.islower())\n",
    "print(\"Converts a string into lower case\", a.lower())\n",
    "print(\"Returns a string where a specified value is replcaed with a specified value \", a.replace(\" \", \"/\"))\n",
    "print(\"Splits the string at the specified separator and returns a list\", a.split(\" \"))\n",
    "print(\"Convert a string into Upper Case \", a.upper())\n",
    "print(\"Returns TRUE if all the charaters in the string are upper\", a.isupper())\n",
    "print(\"Removes the number of times a specified value occurs in a string\", a.count(\"l\"))\n",
    "print(\"Searches the string for a specified value and returns the position of where it found\", a.index(\"!\"))\n",
    "print(\"Returns TRUE if all characters in the string are digits\", a.isdigit())\n",
    "print(\"Returns TRUE if all characters in the string are whitespaces\", a.isspace())\n",
    "print(\"Returns TRUE if the string follows the rules of a title\", a.istitle())"
   ]
  },
  {
   "cell_type": "markdown",
   "metadata": {},
   "source": [
    "# Question 3: Write a Python program to check if the given string is a Palindrome or Anagram or None of them. Display the message accordingly to the user."
   ]
  },
  {
   "cell_type": "code",
   "execution_count": 3,
   "metadata": {},
   "outputs": [
    {
     "name": "stdout",
     "output_type": "stream",
     "text": [
      "Enter First String here:madam\n",
      "Enter Second String here:mmada\n",
      "Only First string is Palindrome. And the string is - madam\n",
      "The given string are Anagram. And the strings are - madam and mmada\n"
     ]
    }
   ],
   "source": [
    "string1 =  input(\"Enter First String here:\")\n",
    "string2 =  input(\"Enter Second String here:\")\n",
    "\n",
    "if string1 is not None and string2 is not None:\n",
    "  if string1 == string1[::-1] and string2 == string2[::-1]:\n",
    "    print(\"The given both strings are Palindrome. And the strings are - {a} and {b}\".format(a = string1, b = string2))\n",
    "  elif string1 == string1[::-1]:\n",
    "    print(\"Only First string is Palindrome. And the string is - {}\".format(string1))\n",
    "  elif string2 == string2[::-1]:\n",
    "    print(\"Only Second string is Palindrome. And the string is - {}\".format(string2))\n",
    "  else:\n",
    "    print(\"Both the given strings are not Palindrome.\")\n",
    "  if sorted(string1) == sorted(string2):\n",
    "    print(\"The given string are Anagram. And the strings are - {a} and {b}\".format(a = string1, b = string2))\n",
    "else:\n",
    "  print(\"None\")"
   ]
  },
  {
   "cell_type": "markdown",
   "metadata": {},
   "source": [
    "# Question 4: Write a Python's user defined function that removes all the additional characters from the string and converts it finally to lower case using built-in lower(). eg: If the string is \"Dr. Darshan Ingle @AI-ML Trainer\", then the output be \"drdarshaningleaimltrainer\"."
   ]
  },
  {
   "cell_type": "code",
   "execution_count": 4,
   "metadata": {},
   "outputs": [],
   "source": [
    "a_string = \"Dr. Darshan Ingle @AI-ML Trainer\"\n",
    "def remove_additionals(a_string):\n",
    "  alp = \"\"\n",
    "  for i in a_string:\n",
    "    if i.isalnum():\n",
    "      alp +=i\n",
    "  return alp.lower()"
   ]
  },
  {
   "cell_type": "code",
   "execution_count": 5,
   "metadata": {},
   "outputs": [
    {
     "name": "stdout",
     "output_type": "stream",
     "text": [
      "drdarshaningleaimltrainer\n"
     ]
    }
   ],
   "source": [
    "print(remove_additionals(a_string))"
   ]
  }
 ],
 "metadata": {
  "kernelspec": {
   "display_name": "Python 3",
   "language": "python",
   "name": "python3"
  },
  "language_info": {
   "codemirror_mode": {
    "name": "ipython",
    "version": 3
   },
   "file_extension": ".py",
   "mimetype": "text/x-python",
   "name": "python",
   "nbconvert_exporter": "python",
   "pygments_lexer": "ipython3",
   "version": "3.7.3"
  }
 },
 "nbformat": 4,
 "nbformat_minor": 2
}
