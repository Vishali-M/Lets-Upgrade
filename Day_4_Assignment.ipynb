{
 "cells": [
  {
   "cell_type": "markdown",
   "metadata": {
    "colab_type": "text",
    "id": "cUmLZOczTNcf"
   },
   "source": [
    "# Question-1 Basic operations on complex numbers"
   ]
  },
  {
   "cell_type": "code",
   "execution_count": 1,
   "metadata": {
    "colab": {
     "base_uri": "https://localhost:8080/",
     "height": 85
    },
    "colab_type": "code",
    "id": "AwzWXMR9FAg8",
    "outputId": "e1ea969a-a999-43b1-aa08-20072715f9c2"
   },
   "outputs": [
    {
     "name": "stdout",
     "output_type": "stream",
     "text": [
      "Addition of a and b is : (37+11j)\n",
      "Subtraction of a and b is : (5+3j)\n",
      "Multiplication of a and b is: (308+196j)\n",
      "Division of a and b is: (1.338235294117647+0.10294117647058823j)\n"
     ]
    }
   ],
   "source": [
    "a=21+7j\n",
    "b=16+4j\n",
    "c=a+b\n",
    "print(\"Addition of a and b is :\" ,c)\n",
    "d=a-b\n",
    "print(\"Subtraction of a and b is :\" ,d)\n",
    "e=a*b\n",
    "print(\"Multiplication of a and b is:\" ,e)\n",
    "f=a/b\n",
    "print(\"Division of a and b is:\" ,f)\n",
    "#We cant perform Modulo Operation and Floor Division on Complex Numbers. If you Try to use a complex number for floor division or modulo perations will raise a TYPEERROR."
   ]
  },
  {
   "cell_type": "markdown",
   "metadata": {
    "colab_type": "text",
    "id": "9x2h6HqNmRly"
   },
   "source": [
    "# Question-2 Range() Function Operations\n",
    " ## Range Function has three parameters:\n",
    "  ### 1) Start(optional): An integer number points the position to start by default it is 0\n",
    "  ### 2) Stop(Required): An integer number points the position to stop\n",
    "  ### 3) Step(optional): An integer number specifies the incrementation by default it is 1"
   ]
  },
  {
   "cell_type": "code",
   "execution_count": 5,
   "metadata": {},
   "outputs": [
    {
     "name": "stdout",
     "output_type": "stream",
     "text": [
      "0\n",
      "1\n",
      "2\n"
     ]
    }
   ],
   "source": [
    "for i in range(3):\n",
    "    print(i)"
   ]
  },
  {
   "cell_type": "code",
   "execution_count": 3,
   "metadata": {
    "colab": {},
    "colab_type": "code",
    "id": "sHTcdpSHmSBc"
   },
   "outputs": [
    {
     "name": "stdout",
     "output_type": "stream",
     "text": [
      "11\n",
      "12\n",
      "13\n",
      "14\n",
      "15\n",
      "16\n",
      "17\n",
      "18\n",
      "19\n"
     ]
    }
   ],
   "source": [
    "for i in range(11,20):\n",
    "    print(i)"
   ]
  },
  {
   "cell_type": "code",
   "execution_count": 7,
   "metadata": {},
   "outputs": [
    {
     "name": "stdout",
     "output_type": "stream",
     "text": [
      "1\n",
      "6\n",
      "11\n",
      "16\n"
     ]
    }
   ],
   "source": [
    "for i in range(1,20,5):\n",
    "    print(i)"
   ]
  },
  {
   "cell_type": "markdown",
   "metadata": {
    "colab_type": "text",
    "id": "yZEzO6yZTBxo"
   },
   "source": [
    "# Question-3 \n",
    " Consider two numbers. Perform their subtraction and if the result of subtraction is greater than\n",
    "25, print their multiplication result else print their division result."
   ]
  },
  {
   "cell_type": "code",
   "execution_count": 9,
   "metadata": {
    "colab": {
     "base_uri": "https://localhost:8080/",
     "height": 34
    },
    "colab_type": "code",
    "id": "oK6hnpoDH00J",
    "outputId": "52b67a45-27c1-4058-cc48-d6d1d42b09d5"
   },
   "outputs": [
    {
     "name": "stdout",
     "output_type": "stream",
     "text": [
      "Multiplication of x and y is: 1000\n"
     ]
    }
   ],
   "source": [
    "x=50\n",
    "y=20\n",
    "z=x-y\n",
    "if z>25:\n",
    " a=x*y\n",
    " print(\"Multiplication of x and y is:\" ,a)\n",
    "else:\n",
    " b=x/y\n",
    " print(\"Division of x and y is:\" ,b)"
   ]
  },
  {
   "cell_type": "markdown",
   "metadata": {
    "colab_type": "text",
    "id": "pKdJSdUOUr5E"
   },
   "source": [
    " # Question 4\n",
    "Consider a list of 10 elements of integer values. If the number in the list is divisible by 2, print the\n",
    "result as \"square of that number minus 2\"."
   ]
  },
  {
   "cell_type": "code",
   "execution_count": 10,
   "metadata": {
    "colab": {
     "base_uri": "https://localhost:8080/",
     "height": 102
    },
    "colab_type": "code",
    "id": "I6NJi8laOKPv",
    "outputId": "8913a302-434f-4c8f-d00a-52d35eaa9552"
   },
   "outputs": [
    {
     "name": "stdout",
     "output_type": "stream",
     "text": [
      "square of that number minus is 142\n",
      "square of that number minus is 194\n",
      "square of that number minus is 254\n",
      "square of that number minus is 322\n",
      "square of that number minus is 398\n"
     ]
    }
   ],
   "source": [
    "l=[11,12,13,14,15,16,17,18,19,20]\n",
    "for i in l:\n",
    " if i%2==0: \n",
    "  x=i**2-2\n",
    "  print(\"square of that number minus is\" ,x)"
   ]
  },
  {
   "cell_type": "markdown",
   "metadata": {
    "colab_type": "text",
    "id": "zpoh7WfsU2R4"
   },
   "source": [
    "# Question-5\n",
    "Consider a list of 10 elements. Print all the elements in the list which are greater than 7 when that\n",
    "number is divided 2."
   ]
  },
  {
   "cell_type": "code",
   "execution_count": 11,
   "metadata": {
    "colab": {
     "base_uri": "https://localhost:8080/",
     "height": 102
    },
    "colab_type": "code",
    "id": "nyCUhIk3P64y",
    "outputId": "ddda880d-02a5-4eec-d132-42defbab020f"
   },
   "outputs": [
    {
     "name": "stdout",
     "output_type": "stream",
     "text": [
      "Value is: 8\n",
      "Value is: 10\n"
     ]
    }
   ],
   "source": [
    "l=[1,2,3,4,5,6,7,8,9,10]\n",
    "for i in l:\n",
    "  if i%2==0:\n",
    "    if i>7:\n",
    "      print(\"Value is:\" , i)"
   ]
  }
 ],
 "metadata": {
  "colab": {
   "name": "Day-4 Assignment.ipynb",
   "provenance": []
  },
  "kernelspec": {
   "display_name": "Python 3",
   "language": "python",
   "name": "python3"
  },
  "language_info": {
   "codemirror_mode": {
    "name": "ipython",
    "version": 3
   },
   "file_extension": ".py",
   "mimetype": "text/x-python",
   "name": "python",
   "nbconvert_exporter": "python",
   "pygments_lexer": "ipython3",
   "version": "3.7.3"
  }
 },
 "nbformat": 4,
 "nbformat_minor": 1
}
